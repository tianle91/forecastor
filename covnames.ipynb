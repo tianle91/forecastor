{
 "cells": [
  {
   "cell_type": "code",
   "execution_count": 1,
   "metadata": {},
   "outputs": [],
   "source": [
    "import json"
   ]
  },
  {
   "cell_type": "code",
   "execution_count": 2,
   "metadata": {
    "scrolled": true
   },
   "outputs": [
    {
     "data": {
      "text/plain": [
       "['orders:count(*)_for_type:All_side:All_orders',\n",
       " 'orders:sum(ABS(book_change))_for_type:Executed_side:Sell_orders',\n",
       " 'orders:sum(ABS(book_change))_for_type:Cancelled_side:Buy_orders_at_touch',\n",
       " 'orders:count(*)_for_type:Cancelled_side:Sell_orders',\n",
       " 'orders:sum(ABS(book_change))_for_type:Cancelled_side:All_orders_at_touch',\n",
       " 'orders:sum(ABS(book_change))_for_type:All_side:All_orders',\n",
       " 'orders:sum(ABS(book_change))_for_type:New_side:Buy_orders',\n",
       " 'orders:count(*)_for_type:All_side:Sell_orders',\n",
       " 'orders:sum(ABS(book_change))_for_type:All_side:Sell_orders_at_touch',\n",
       " 'orders:count(*)_for_type:New_side:All_orders',\n",
       " 'orders:sum(ABS(book_change))_for_type:Cancelled_side:Sell_orders_at_touch',\n",
       " 'orders:count(*)_for_type:Executed_side:All_orders_at_touch',\n",
       " 'orders:sum(ABS(book_change))_for_type:New_side:Sell_orders',\n",
       " 'orders:count(*)_for_type:Executed_side:Sell_orders',\n",
       " 'orders:count(*)_for_type:New_side:Sell_orders',\n",
       " 'orders:count(*)_for_type:New_side:Buy_orders_at_touch',\n",
       " 'orders:count(*)_for_type:Executed_side:Sell_orders_at_touch',\n",
       " 'orders:sum(ABS(book_change))_for_type:Cancelled_side:All_orders',\n",
       " 'orders:count(*)_for_type:Executed_side:All_orders',\n",
       " 'orders:sum(ABS(book_change))_for_type:All_side:Buy_orders',\n",
       " 'orders:count(*)_for_type:Cancelled_side:All_orders_at_touch',\n",
       " 'orders:sum(ABS(book_change))_for_type:Executed_side:All_orders_at_touch',\n",
       " 'orders:count(*)_for_type:New_side:Sell_orders_at_touch',\n",
       " 'orders:count(*)_for_type:New_side:All_orders_at_touch',\n",
       " 'orders:sum(ABS(book_change))_for_type:New_side:Buy_orders_at_touch',\n",
       " 'orders:sum(ABS(book_change))_for_type:All_side:Buy_orders_at_touch',\n",
       " 'orders:sum(ABS(book_change))_for_type:Executed_side:Buy_orders',\n",
       " 'orders:sum(ABS(book_change))_for_type:All_side:All_orders_at_touch',\n",
       " 'orders:sum(ABS(book_change))_for_type:New_side:Sell_orders_at_touch',\n",
       " 'orders:sum(ABS(book_change))_for_type:Executed_side:Sell_orders_at_touch',\n",
       " 'orders:count(*)_for_type:All_side:All_orders_at_touch',\n",
       " 'orders:count(*)_for_type:Cancelled_side:Sell_orders_at_touch',\n",
       " 'orders:count(*)_for_type:Cancelled_side:All_orders',\n",
       " 'orders:count(*)_for_type:Cancelled_side:Buy_orders_at_touch',\n",
       " 'orders:count(*)_for_type:Executed_side:Buy_orders_at_touch',\n",
       " 'orders:count(*)_for_type:Cancelled_side:Buy_orders',\n",
       " 'orders:sum(ABS(book_change))_for_type:All_side:Sell_orders',\n",
       " 'orders:sum(ABS(book_change))_for_type:New_side:All_orders_at_touch',\n",
       " 'orders:sum(ABS(book_change))_for_type:Executed_side:Buy_orders_at_touch',\n",
       " 'orders:count(*)_for_type:All_side:Sell_orders_at_touch',\n",
       " 'orders:count(*)_for_type:Executed_side:Buy_orders',\n",
       " 'orders:sum(ABS(book_change))_for_type:Cancelled_side:Buy_orders',\n",
       " 'orders:sum(ABS(book_change))_for_type:Cancelled_side:Sell_orders',\n",
       " 'orders:sum(ABS(book_change))_for_type:New_side:All_orders',\n",
       " 'orders:count(*)_for_type:All_side:Buy_orders_at_touch',\n",
       " 'orders:count(*)_for_type:New_side:Buy_orders',\n",
       " 'orders:sum(ABS(book_change))_for_type:Executed_side:All_orders',\n",
       " 'orders:count(*)_for_type:All_side:Buy_orders',\n",
       " 'book:maxbid',\n",
       " None,\n",
       " 'book:minask',\n",
       " 'book:spread',\n",
       " 'prices:weighted-volume-at-touch',\n",
       " 'prices:mid',\n",
       " 'trades:min(price)_trades',\n",
       " 'trades:count(*)_trades',\n",
       " 'trades:stddev(quantity)_trades',\n",
       " 'trades:mean(quantity)_trades',\n",
       " 'trades:sum(price_diff2)_trades',\n",
       " 'trades:stddev(price)_trades',\n",
       " 'trades:mean(logreturn)_trades',\n",
       " 'trades:mean(price_diff2)_trades',\n",
       " 'trades:max(price)_trades',\n",
       " 'trades:stddev(logreturn)_trades',\n",
       " 'trades:vwlogreturn',\n",
       " 'trades:vwap',\n",
       " 'trades:vwquadvar',\n",
       " 'trades:mean(price)_trades',\n",
       " 'trades:stddev(price_diff2)_trades',\n",
       " 'price-direction']"
      ]
     },
     "execution_count": 2,
     "metadata": {},
     "output_type": "execute_result"
    }
   ],
   "source": [
    "jsstr = '[\"orders:count(*)_for_type:All_side:All_orders\", \"orders:sum(ABS(book_change))_for_type:Executed_side:Sell_orders\", \"orders:sum(ABS(book_change))_for_type:Cancelled_side:Buy_orders_at_touch\", \"orders:count(*)_for_type:Cancelled_side:Sell_orders\", \"orders:sum(ABS(book_change))_for_type:Cancelled_side:All_orders_at_touch\", \"orders:sum(ABS(book_change))_for_type:All_side:All_orders\", \"orders:sum(ABS(book_change))_for_type:New_side:Buy_orders\", \"orders:count(*)_for_type:All_side:Sell_orders\", \"orders:sum(ABS(book_change))_for_type:All_side:Sell_orders_at_touch\", \"orders:count(*)_for_type:New_side:All_orders\", \"orders:sum(ABS(book_change))_for_type:Cancelled_side:Sell_orders_at_touch\", \"orders:count(*)_for_type:Executed_side:All_orders_at_touch\", \"orders:sum(ABS(book_change))_for_type:New_side:Sell_orders\", \"orders:count(*)_for_type:Executed_side:Sell_orders\", \"orders:count(*)_for_type:New_side:Sell_orders\", \"orders:count(*)_for_type:New_side:Buy_orders_at_touch\", \"orders:count(*)_for_type:Executed_side:Sell_orders_at_touch\", \"orders:sum(ABS(book_change))_for_type:Cancelled_side:All_orders\", \"orders:count(*)_for_type:Executed_side:All_orders\", \"orders:sum(ABS(book_change))_for_type:All_side:Buy_orders\", \"orders:count(*)_for_type:Cancelled_side:All_orders_at_touch\", \"orders:sum(ABS(book_change))_for_type:Executed_side:All_orders_at_touch\", \"orders:count(*)_for_type:New_side:Sell_orders_at_touch\", \"orders:count(*)_for_type:New_side:All_orders_at_touch\", \"orders:sum(ABS(book_change))_for_type:New_side:Buy_orders_at_touch\", \"orders:sum(ABS(book_change))_for_type:All_side:Buy_orders_at_touch\", \"orders:sum(ABS(book_change))_for_type:Executed_side:Buy_orders\", \"orders:sum(ABS(book_change))_for_type:All_side:All_orders_at_touch\", \"orders:sum(ABS(book_change))_for_type:New_side:Sell_orders_at_touch\", \"orders:sum(ABS(book_change))_for_type:Executed_side:Sell_orders_at_touch\", \"orders:count(*)_for_type:All_side:All_orders_at_touch\", \"orders:count(*)_for_type:Cancelled_side:Sell_orders_at_touch\", \"orders:count(*)_for_type:Cancelled_side:All_orders\", \"orders:count(*)_for_type:Cancelled_side:Buy_orders_at_touch\", \"orders:count(*)_for_type:Executed_side:Buy_orders_at_touch\", \"orders:count(*)_for_type:Cancelled_side:Buy_orders\", \"orders:sum(ABS(book_change))_for_type:All_side:Sell_orders\", \"orders:sum(ABS(book_change))_for_type:New_side:All_orders_at_touch\", \"orders:sum(ABS(book_change))_for_type:Executed_side:Buy_orders_at_touch\", \"orders:count(*)_for_type:All_side:Sell_orders_at_touch\", \"orders:count(*)_for_type:Executed_side:Buy_orders\", \"orders:sum(ABS(book_change))_for_type:Cancelled_side:Buy_orders\", \"orders:sum(ABS(book_change))_for_type:Cancelled_side:Sell_orders\", \"orders:sum(ABS(book_change))_for_type:New_side:All_orders\", \"orders:count(*)_for_type:All_side:Buy_orders_at_touch\", \"orders:count(*)_for_type:New_side:Buy_orders\", \"orders:sum(ABS(book_change))_for_type:Executed_side:All_orders\", \"orders:count(*)_for_type:All_side:Buy_orders\", \"book:maxbid\", null, \"book:minask\", \"book:spread\", \"prices:weighted-volume-at-touch\", \"prices:mid\", \"trades:min(price)_trades\", \"trades:count(*)_trades\", \"trades:stddev(quantity)_trades\", \"trades:mean(quantity)_trades\", \"trades:sum(price_diff2)_trades\", \"trades:stddev(price)_trades\", \"trades:mean(logreturn)_trades\", \"trades:mean(price_diff2)_trades\", \"trades:max(price)_trades\", \"trades:stddev(logreturn)_trades\", \"trades:vwlogreturn\", \"trades:vwap\", \"trades:vwquadvar\", \"trades:mean(price)_trades\", \"trades:stddev(price_diff2)_trades\", \"price-direction\"]'\n",
    "covnames = json.loads(jsstr)\n",
    "covnames"
   ]
  },
  {
   "cell_type": "raw",
   "metadata": {},
   "source": [
    "% class0 triggered by \n",
    "\n",
    "% low:\n",
    "% [28, 29, 30, 35, 41, 42, 45]\n",
    "% [vol-new-sellorders-touch, vol-exec-sellorders-touch, vol-cancelled-sellorders]\n",
    "% [num-cancelled-buyorders, vol-cancelled-buyorders, num-new-buyorders]\n",
    "% [num-allorders-touch]\n",
    "\n",
    "% medium:\n",
    "% [2, 18, 23, 24, 27, 44]\n",
    "% [vol-cancelled-buyorders-touch, vol-new-buyorders-touch, num-buyorders-touch]\n",
    "% [vol-allorders-touch, num-new-allorders-touch, num-exec-allorders]\n",
    "\n",
    "% high:\n",
    "% []"
   ]
  },
  {
   "cell_type": "code",
   "execution_count": 3,
   "metadata": {},
   "outputs": [
    {
     "name": "stdout",
     "output_type": "stream",
     "text": [
      "covdex: 28, covname: orders:sum(ABS(book_change))_for_type:New_side:Sell_orders_at_touch\n",
      "covdex: 29, covname: orders:sum(ABS(book_change))_for_type:Executed_side:Sell_orders_at_touch\n",
      "covdex: 30, covname: orders:count(*)_for_type:All_side:All_orders_at_touch\n",
      "covdex: 35, covname: orders:count(*)_for_type:Cancelled_side:Buy_orders\n",
      "covdex: 41, covname: orders:sum(ABS(book_change))_for_type:Cancelled_side:Buy_orders\n",
      "covdex: 42, covname: orders:sum(ABS(book_change))_for_type:Cancelled_side:Sell_orders\n",
      "covdex: 45, covname: orders:count(*)_for_type:New_side:Buy_orders\n"
     ]
    }
   ],
   "source": [
    "covdexlist = [28, 29, 30, 35, 41, 42, 45]\n",
    "for covdex in covdexlist:\n",
    "    print ('covdex: %s, covname: %s' % (covdex, covnames[covdex]))"
   ]
  },
  {
   "cell_type": "code",
   "execution_count": 4,
   "metadata": {},
   "outputs": [
    {
     "name": "stdout",
     "output_type": "stream",
     "text": [
      "covdex: 2, covname: orders:sum(ABS(book_change))_for_type:Cancelled_side:Buy_orders_at_touch\n",
      "covdex: 18, covname: orders:count(*)_for_type:Executed_side:All_orders\n",
      "covdex: 23, covname: orders:count(*)_for_type:New_side:All_orders_at_touch\n",
      "covdex: 24, covname: orders:sum(ABS(book_change))_for_type:New_side:Buy_orders_at_touch\n",
      "covdex: 27, covname: orders:sum(ABS(book_change))_for_type:All_side:All_orders_at_touch\n",
      "covdex: 44, covname: orders:count(*)_for_type:All_side:Buy_orders_at_touch\n"
     ]
    }
   ],
   "source": [
    "covdexlist = [2, 18, 23, 24, 27, 44]\n",
    "for covdex in covdexlist:\n",
    "    print ('covdex: %s, covname: %s' % (covdex, covnames[covdex]))"
   ]
  },
  {
   "cell_type": "raw",
   "metadata": {},
   "source": [
    "% class1 triggered by\n",
    "\n",
    "% low: (class0: medium)\n",
    "% [2, 18, 23, 24, 27, 44]\n",
    "\n",
    "% medium: (class0: medium)\n",
    "% [2, 18, 23, 24, 27, 44]\n",
    "\n",
    "% high:\n",
    "% [7, 21, 31, 39, 40, 47]\n",
    "% [num-sellorders, num-sellorders-touch, num-cancelled-sellorders-touch]\n",
    "% [num-exec-buyorders, num-buy-allorders]\n",
    "% [vol-exec-allorders-touch"
   ]
  },
  {
   "cell_type": "code",
   "execution_count": 5,
   "metadata": {},
   "outputs": [
    {
     "name": "stdout",
     "output_type": "stream",
     "text": [
      "covdex: 7, covname: orders:count(*)_for_type:All_side:Sell_orders\n",
      "covdex: 21, covname: orders:sum(ABS(book_change))_for_type:Executed_side:All_orders_at_touch\n",
      "covdex: 31, covname: orders:count(*)_for_type:Cancelled_side:Sell_orders_at_touch\n",
      "covdex: 39, covname: orders:count(*)_for_type:All_side:Sell_orders_at_touch\n",
      "covdex: 40, covname: orders:count(*)_for_type:Executed_side:Buy_orders\n",
      "covdex: 47, covname: orders:count(*)_for_type:All_side:Buy_orders\n"
     ]
    }
   ],
   "source": [
    "covdexlist = [7, 21, 31, 39, 40, 47]\n",
    "for covdex in covdexlist:\n",
    "    print ('covdex: %s, covname: %s' % (covdex, covnames[covdex]))"
   ]
  },
  {
   "cell_type": "raw",
   "metadata": {},
   "source": [
    "% class2 triggered by\n",
    "% low: (class1: high)\n",
    "% [7, 21, 31, 39, 40, 47]\n",
    "% medium: (class1: high)\n",
    "% [7, 21, 31, 39, 40, 47]\n",
    "% high: (class0: medium)\n",
    "% [2, 18, 23, 24, 27, 44]"
   ]
  },
  {
   "cell_type": "raw",
   "metadata": {},
   "source": [
    "% class3 triggered by\n",
    "% low:\n",
    "% []\n",
    "% medium: (class1: high)\n",
    "% [7, 21, 31, 39, 40, 47]\n",
    "% high:\n",
    "% []"
   ]
  }
 ],
 "metadata": {
  "kernelspec": {
   "display_name": "Python 3",
   "language": "python",
   "name": "python3"
  },
  "language_info": {
   "codemirror_mode": {
    "name": "ipython",
    "version": 3
   },
   "file_extension": ".py",
   "mimetype": "text/x-python",
   "name": "python",
   "nbconvert_exporter": "python",
   "pygments_lexer": "ipython3",
   "version": "3.7.1"
  }
 },
 "nbformat": 4,
 "nbformat_minor": 2
}
